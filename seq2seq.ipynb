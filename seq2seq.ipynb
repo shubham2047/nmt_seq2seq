{
  "nbformat": 4,
  "nbformat_minor": 0,
  "metadata": {
    "kernelspec": {
      "name": "python3",
      "display_name": "Python 3"
    },
    "colab": {
      "name": "seq2seq",
      "provenance": [],
      "collapsed_sections": []
    },
    "accelerator": "GPU"
  },
  "cells": [
    {
      "cell_type": "markdown",
      "metadata": {
        "id": "vsX0L1sG1iZj"
      },
      "source": [
        "## Neural translation model - English to German Translation using seq2seq model"
      ]
    },
    {
      "cell_type": "code",
      "metadata": {
        "id": "2VyTvxPN1iZn"
      },
      "source": [
        "import tensorflow as tf\n",
        "import tensorflow_hub as hub\n",
        "import unicodedata\n",
        "import re\n",
        "from nltk.translate.bleu_score import sentence_bleu\n",
        "from nltk.translate.bleu_score import SmoothingFunction"
      ],
      "execution_count": 1,
      "outputs": []
    },
    {
      "cell_type": "markdown",
      "metadata": {
        "id": "pi9Dq6vv3FVO"
      },
      "source": [
        "##Data import\n",
        "\n",
        "Dataset downlad link:\n",
        "\n",
        "https://drive.google.com/open?id=1KczOciG7sYY7SB9UlBeRP1T9659b121Q\n"
      ]
    },
    {
      "cell_type": "code",
      "metadata": {
        "id": "o8PetPpw1iZu"
      },
      "source": [
        "# load the dataset\n",
        "NUM_EXAMPLES = 20000\n",
        "data_examples = []\n",
        "with open('./deu.txt', 'r', encoding='utf8') as f:\n",
        "    for line in f.readlines():\n",
        "        if len(data_examples) < NUM_EXAMPLES:\n",
        "            data_examples.append(line)\n",
        "        else:\n",
        "            break"
      ],
      "execution_count": 2,
      "outputs": []
    },
    {
      "cell_type": "code",
      "metadata": {
        "id": "JumLjJ631iZy"
      },
      "source": [
        "# Preprocess English and German sentences\n",
        "\n",
        "def unicode_to_ascii(s):\n",
        "    return ''.join(c for c in unicodedata.normalize('NFD', s) if unicodedata.category(c) != 'Mn')\n",
        "\n",
        "def preprocess_sentence(sentence):\n",
        "    sentence = sentence.lower().strip()\n",
        "    sentence = re.sub(r\"ü\", 'ue', sentence)\n",
        "    sentence = re.sub(r\"ä\", 'ae', sentence)\n",
        "    sentence = re.sub(r\"ö\", 'oe', sentence)\n",
        "    sentence = re.sub(r'ß', 'ss', sentence)\n",
        "    \n",
        "    sentence = unicode_to_ascii(sentence)\n",
        "    sentence = re.sub(r\"([?.!,])\", r\" \\1 \", sentence)\n",
        "    sentence = re.sub(r\"[^a-z?.!,']+\", \" \", sentence)\n",
        "    sentence = re.sub(r'[\" \"]+', \" \", sentence)\n",
        "    \n",
        "    return sentence.strip()"
      ],
      "execution_count": 3,
      "outputs": []
    },
    {
      "cell_type": "markdown",
      "metadata": {
        "id": "z70nu6_01iZ3"
      },
      "source": [
        "\n",
        "## Text preprocessing"
      ]
    },
    {
      "cell_type": "code",
      "metadata": {
        "scrolled": true,
        "id": "9G20C4bk1iZ4"
      },
      "source": [
        "# separates list of english and german sentences and preprosess them\n",
        "def get_sentence(data_examples):\n",
        "    english_sentence = []\n",
        "    german_sentence = []\n",
        "    for line in data_examples:\n",
        "        temp_list = line.strip().split('\\t')\n",
        "        english_sentence.append(preprocess_sentence(temp_list[0]))\n",
        "        german_sentence.append(preprocess_sentence(temp_list[1]))\n",
        "    return english_sentence, german_sentence\n",
        "\n",
        "english_sentences, german_sentences = get_sentence(data_examples)"
      ],
      "execution_count": 4,
      "outputs": []
    },
    {
      "cell_type": "code",
      "metadata": {
        "id": "MEdfKMhEs-MR"
      },
      "source": [
        "# Add a special \"<start>\" and \"<end>\" token to the beginning and end of every German sentence.\n",
        "def add_start_and_end_token(german_sentences):\n",
        "    start_token = '<start> '\n",
        "    end_token = ' <end>'\n",
        "    return [start_token + line + end_token for line in german_sentences]\n",
        "\n",
        "german_sentences_with_token = add_start_and_end_token(german_sentences)"
      ],
      "execution_count": 5,
      "outputs": []
    },
    {
      "cell_type": "code",
      "metadata": {
        "id": "QAIUW8Og0dRE"
      },
      "source": [
        "# tokenize the German sentences\n",
        "def get_tokenizer(sentences):\n",
        "    tokenizer = tf.keras.preprocessing.text.Tokenizer(filters='')\n",
        "    tokenizer.fit_on_texts(sentences)\n",
        "    return tokenizer\n",
        "german_tokenizer = get_tokenizer(german_sentences_with_token)\n",
        "german_tokenizer_max_index = max(german_tokenizer.index_word.keys())\n",
        "german_seq = german_tokenizer.texts_to_sequences(german_sentences_with_token)"
      ],
      "execution_count": 6,
      "outputs": []
    },
    {
      "cell_type": "code",
      "metadata": {
        "id": "aO_IT1j96S7v",
        "colab": {
          "base_uri": "https://localhost:8080/"
        },
        "outputId": "499ab68f-be91-4245-c415-f1d79db205fa"
      },
      "source": [
        "# 5 randomly chosen examples of (preprocessed) English and German sentence pairs.\n",
        "idx = tf.random.uniform((5,), minval=0, maxval=len(german_seq), dtype=tf.int32).numpy()\n",
        "for i, id in enumerate(idx):\n",
        "    if i != 0:\n",
        "        print('\\n==================================================================================\\n')\n",
        "\n",
        "    print(f'English translation: {english_sentences[id]}')\n",
        "    print(f'German translation: {german_sentences_with_token[id]}')\n",
        "    print(f'German tokenized sequence: {german_seq[id]}')"
      ],
      "execution_count": 7,
      "outputs": [
        {
          "output_type": "stream",
          "text": [
            "English translation: throw the dice .\n",
            "German translation: <start> wuerfele ! <end>\n",
            "German tokenized sequence: [1, 2598, 9, 2]\n",
            "\n",
            "==================================================================================\n",
            "\n",
            "English translation: beat it .\n",
            "German translation: <start> geh weg ! <end>\n",
            "German tokenized sequence: [1, 89, 102, 9, 2]\n",
            "\n",
            "==================================================================================\n",
            "\n",
            "English translation: i want to win .\n",
            "German translation: <start> ich will gewinnen . <end>\n",
            "German tokenized sequence: [1, 4, 66, 227, 3, 2]\n",
            "\n",
            "==================================================================================\n",
            "\n",
            "English translation: i understand tom .\n",
            "German translation: <start> ich verstehe tom . <end>\n",
            "German tokenized sequence: [1, 4, 336, 5, 3, 2]\n",
            "\n",
            "==================================================================================\n",
            "\n",
            "English translation: what a funny man !\n",
            "German translation: <start> was fuer ein lustiger mann ! <end>\n",
            "German tokenized sequence: [1, 38, 77, 19, 5374, 193, 9, 2]\n"
          ],
          "name": "stdout"
        }
      ]
    },
    {
      "cell_type": "code",
      "metadata": {
        "id": "MHbziF9K9ISq",
        "colab": {
          "base_uri": "https://localhost:8080/"
        },
        "outputId": "f11f32f9-dc6d-486c-a3dd-c625431a675d"
      },
      "source": [
        "# Pads the end of the tokenized German sequences with zeros, and batch the complete set of sequences into one numpy array.\n",
        "german_padded_seq = tf.keras.preprocessing.sequence.pad_sequences(german_seq, padding='post')\n",
        "print(f'german_padded_seq.shape = {german_padded_seq.shape}')"
      ],
      "execution_count": 8,
      "outputs": [
        {
          "output_type": "stream",
          "text": [
            "german_padded_seq.shape = (20000, 14)\n"
          ],
          "name": "stdout"
        }
      ]
    },
    {
      "cell_type": "markdown",
      "metadata": {
        "id": "foL7Ihs21iaP"
      },
      "source": [
        "##Data preparation"
      ]
    },
    {
      "cell_type": "code",
      "metadata": {
        "id": "ywZgobCh1iaR"
      },
      "source": [
        "# Load embedding module from Tensorflow Hub\n",
        "\n",
        "embedding_layer = hub.KerasLayer(\"https://tfhub.dev/google/tf2-preview/nnlm-en-dim128/1\", \n",
        "                                 output_shape=[128], input_shape=[], dtype=tf.string)"
      ],
      "execution_count": 9,
      "outputs": []
    },
    {
      "cell_type": "code",
      "metadata": {
        "id": "TiY8QEDp1iaV",
        "colab": {
          "base_uri": "https://localhost:8080/"
        },
        "outputId": "19a49ec1-d877-4804-ef4a-ad526f62f3e3"
      },
      "source": [
        "# Test the layer\n",
        "embedding_layer(tf.constant([\"these\", \"aren't\", \"the\", \"droids\", \"you're\", \"looking\", \"for\"])).shape[0]"
      ],
      "execution_count": 10,
      "outputs": [
        {
          "output_type": "execute_result",
          "data": {
            "text/plain": [
              "7"
            ]
          },
          "metadata": {
            "tags": []
          },
          "execution_count": 10
        }
      ]
    },
    {
      "cell_type": "code",
      "metadata": {
        "id": "Q-BUJOl_1iaZ"
      },
      "source": [
        "# Creates a random training and validation set split of the data, reserving 20% of the data for validation\n",
        "from sklearn.model_selection import train_test_split\n",
        "\n",
        "split = train_test_split(english_sentences, german_padded_seq, test_size=0.2, random_state=5)\n",
        "english_sentences_train, english_sentences_test = split[:2]\n",
        "german_padded_seq_train, german_padded_seq_test = split[2:]"
      ],
      "execution_count": 11,
      "outputs": []
    },
    {
      "cell_type": "code",
      "metadata": {
        "id": "4w6rM8Bl1iad"
      },
      "source": [
        "# Loads the training and validation sets into a tf.data.Dataset object, passing in a tuple of English and German data for both training and validation sets.\n",
        "training_dataset = tf.data.Dataset.from_tensor_slices((english_sentences_train, german_padded_seq_train))\n",
        "validation_dataset = tf.data.Dataset.from_tensor_slices((english_sentences_test, german_padded_seq_test))"
      ],
      "execution_count": 12,
      "outputs": []
    },
    {
      "cell_type": "code",
      "metadata": {
        "id": "bGqlxuqZ1ias"
      },
      "source": [
        "# function to map over the datasets that splits each English sentence at spaces.\n",
        "def split_english_sentences(dataset):\n",
        "    def func(english_sentence, german_padded_seq):\n",
        "        return tf.strings.split(english_sentence), german_padded_seq\n",
        "    dataset = dataset.map(func)\n",
        "    return dataset\n",
        "    \n",
        "training_dataset = split_english_sentences(training_dataset)\n",
        "validation_dataset = split_english_sentences(validation_dataset)"
      ],
      "execution_count": 13,
      "outputs": []
    },
    {
      "cell_type": "code",
      "metadata": {
        "id": "sDPkbOx7rR3o"
      },
      "source": [
        "# function to map over the datasets that embeds each sequence of English words using the loaded embedding layer/model.\n",
        "def embed_english_words(dataset, embedding_layer):\n",
        "    dataset = dataset.map(lambda x,y: (embedding_layer(x), y))\n",
        "    return dataset\n",
        "    \n",
        "training_dataset = embed_english_words(training_dataset, embedding_layer)\n",
        "validation_dataset = embed_english_words(validation_dataset, embedding_layer)"
      ],
      "execution_count": 14,
      "outputs": []
    },
    {
      "cell_type": "code",
      "metadata": {
        "id": "MdqSXEoX1iav"
      },
      "source": [
        "# function to filter out dataset examples where the English sentence is more than 13 (embedded) tokens in length. \n",
        "def filter_english_seq(dataset):\n",
        "    dataset = dataset.filter(lambda x,y: len(x) <= 13)\n",
        "    return dataset\n",
        "  \n",
        "training_dataset = filter_english_seq(training_dataset)\n",
        "validation_dataset = filter_english_seq(validation_dataset)"
      ],
      "execution_count": 15,
      "outputs": []
    },
    {
      "cell_type": "code",
      "metadata": {
        "id": "PpQdGn9sBw2-"
      },
      "source": [
        "# function to map over the datasets that pads each English sequence of embeddings with \n",
        "# some distinct padding value before the sequence, so that each sequence is length 13.\n",
        "def pad_english_seq(dataset):\n",
        "    def func(x, y):\n",
        "        x = tf.pad(x, paddings=[[13 - tf.shape(x)[0], 0],[0,0]], constant_values=0)\n",
        "        return x,y\n",
        "    dataset = dataset.map(func)\n",
        "    return dataset\n",
        "\n",
        "training_dataset = pad_english_seq(training_dataset)\n",
        "validation_dataset = pad_english_seq(validation_dataset)"
      ],
      "execution_count": 16,
      "outputs": []
    },
    {
      "cell_type": "code",
      "metadata": {
        "id": "4KTOK1F2o5ye"
      },
      "source": [
        "# Batches both training and validation Datasets with a batch size of 16\n",
        "def get_batched_dataset(dataset, training=False, batch_size=16):\n",
        "    if training:\n",
        "      dataset = dataset.shuffle(1000, reshuffle_each_iteration=True)\n",
        "    dataset = dataset.batch(batch_size)\n",
        "    return dataset\n",
        "training_batched_dataset = get_batched_dataset(training_dataset, training=True)\n",
        "validation_batched_dataset = get_batched_dataset(validation_dataset)"
      ],
      "execution_count": 17,
      "outputs": []
    },
    {
      "cell_type": "code",
      "metadata": {
        "id": "zHB7YcXN6Zil",
        "colab": {
          "base_uri": "https://localhost:8080/"
        },
        "outputId": "9c3485ea-5293-472f-f2d6-310d1499509c"
      },
      "source": [
        "# element_spec property for the training and validation Dataset\n",
        "print(f'training_batched_dataset.element_spec = {training_batched_dataset.element_spec}')\n",
        "print(f'validation_batched_dataset.element_spec = {validation_batched_dataset.element_spec}')"
      ],
      "execution_count": 18,
      "outputs": [
        {
          "output_type": "stream",
          "text": [
            "training_batched_dataset.element_spec = (TensorSpec(shape=(None, None, 128), dtype=tf.float32, name=None), TensorSpec(shape=(None, 14), dtype=tf.int32, name=None))\n",
            "validation_batched_dataset.element_spec = (TensorSpec(shape=(None, None, 128), dtype=tf.float32, name=None), TensorSpec(shape=(None, 14), dtype=tf.int32, name=None))\n"
          ],
          "name": "stdout"
        }
      ]
    },
    {
      "cell_type": "code",
      "metadata": {
        "id": "Re_kZCgV7NLR"
      },
      "source": [
        "english_batch, german_batch = next(iter(training_batched_dataset.take(1)))"
      ],
      "execution_count": 19,
      "outputs": []
    },
    {
      "cell_type": "code",
      "metadata": {
        "id": "DC1sZV6p7ALj",
        "colab": {
          "base_uri": "https://localhost:8080/"
        },
        "outputId": "1f6dcd11-a3bd-4afe-de45-89eff4d0a9f5"
      },
      "source": [
        "# shape of the English data example from the training Dataset.\n",
        "print(f'shape of the English data example = {english_batch.shape}')"
      ],
      "execution_count": 20,
      "outputs": [
        {
          "output_type": "stream",
          "text": [
            "shape of the English data example = (16, 13, 128)\n"
          ],
          "name": "stdout"
        }
      ]
    },
    {
      "cell_type": "code",
      "metadata": {
        "id": "zsCKnnku7xID",
        "colab": {
          "base_uri": "https://localhost:8080/"
        },
        "outputId": "c6a897c1-d6aa-4e71-a88f-c80ce6773bcb"
      },
      "source": [
        "# German data example Tensor from the validation Dataset.\n",
        "print(f'shape of the German data example = \\n{german_batch}')"
      ],
      "execution_count": 21,
      "outputs": [
        {
          "output_type": "stream",
          "text": [
            "shape of the German data example = \n",
            "[[   1    5    6   19 1837    3    2    0    0    0    0    0    0    0]\n",
            " [   1 1306  477   25    5    3    2    0    0    0    0    0    0    0]\n",
            " [   1    4   15  660    3    2    0    0    0    0    0    0    0    0]\n",
            " [   1    4   15 1361    3    2    0    0    0    0    0    0    0    0]\n",
            " [   1   11    6   19 4012  107    3    2    0    0    0    0    0    0]\n",
            " [   1    5   51  951    3    2    0    0    0    0    0    0    0    0]\n",
            " [   1    4  336   11   12    3    2    0    0    0    0    0    0    0]\n",
            " [   1    4   51   11  112    3    2    0    0    0    0    0    0    0]\n",
            " [   1  140   27   10  487    7    2    0    0    0    0    0    0    0]\n",
            " [   1    4 1043   53 1705    3    2    0    0    0    0    0    0    0]\n",
            " [   1    8  114  249   41    3    2    0    0    0    0    0    0    0]\n",
            " [   1   14    6 2863    3    2    0    0    0    0    0    0    0    0]\n",
            " [   1    4   30   33   62   12  102    3    2    0    0    0    0    0]\n",
            " [   1  746 3071   71 1409    3    2    0    0    0    0    0    0    0]\n",
            " [   1   13   58 2436    3    2    0    0    0    0    0    0    0    0]\n",
            " [   1    5    6 1149    3    2    0    0    0    0    0    0    0    0]]\n"
          ],
          "name": "stdout"
        }
      ]
    },
    {
      "cell_type": "markdown",
      "metadata": {
        "id": "isIYhjq01iay"
      },
      "source": [
        "## Custom layer\n"
      ]
    },
    {
      "cell_type": "code",
      "metadata": {
        "id": "yg9hjZz11ia0"
      },
      "source": [
        "# layer that takes a batch of English data examples from one of the \n",
        "# Datasets, and adds a learned embedded ‘end’ token to the end of each sequence. \n",
        "class EndTokenEmbeddingLayer(tf.keras.layers.Layer):\n",
        "  \n",
        "    def __init__(self, **kwargs):\n",
        "        super(EndTokenEmbeddingLayer, self).__init__(**kwargs)\n",
        "\n",
        "    def build(self, input_shape):\n",
        "        initializer = tf.random_normal_initializer()\n",
        "        self.embedding = tf.Variable(initial_value=initializer(shape=(input_shape[-1],)))\n",
        "\n",
        "    def call(self, input):\n",
        "        x = tf.map_fn(lambda x: tf.concat([x, tf.reshape(tf.convert_to_tensor(self.embedding), (1,-1))], axis=0), input)\n",
        "        return x"
      ],
      "execution_count": 22,
      "outputs": []
    },
    {
      "cell_type": "code",
      "metadata": {
        "id": "n7oUT8278kIW",
        "colab": {
          "base_uri": "https://localhost:8080/"
        },
        "outputId": "bb9a0b0c-6272-4712-fff6-cefd4ae895a9"
      },
      "source": [
        "english_batch, german_batch = next(iter(training_batched_dataset.take(1)))\n",
        "print(f'shape after passing through EndTokenEmbeddingLayer = {EndTokenEmbeddingLayer()(english_batch).shape}')"
      ],
      "execution_count": 23,
      "outputs": [
        {
          "output_type": "stream",
          "text": [
            "shape after passing through EndTokenEmbeddingLayer = (16, 14, 128)\n"
          ],
          "name": "stdout"
        }
      ]
    },
    {
      "cell_type": "markdown",
      "metadata": {
        "id": "OAd3i4_y1ia-"
      },
      "source": [
        "## Encoder network"
      ]
    },
    {
      "cell_type": "code",
      "metadata": {
        "id": "6R2LqbfV1ia_"
      },
      "source": [
        "def get_encoder(input_shape):\n",
        "\n",
        "    model_input = tf.keras.Input(shape=input_shape, name='input')\n",
        "    x = EndTokenEmbeddingLayer(name='end_token_embedding_layer')(model_input)\n",
        "    x = tf.keras.layers.Masking(name='masking_layer')(x)\n",
        "    output, hidden_state, cell_state = tf.keras.layers.LSTM(512, return_state=True, name='lstm')(x)\n",
        "    model = tf.keras.models.Model(inputs=model_input, outputs=[hidden_state, cell_state], name='Encoder')\n",
        "    return model"
      ],
      "execution_count": 24,
      "outputs": []
    },
    {
      "cell_type": "code",
      "metadata": {
        "id": "mDwIW6l-DVhk",
        "colab": {
          "base_uri": "https://localhost:8080/"
        },
        "outputId": "61a03929-c88f-4f0e-8375-22a23d56268b"
      },
      "source": [
        "encoder = get_encoder((None, 128))\n",
        "\n",
        "english_batch, german_batch = next(iter(training_batched_dataset.take(1)))\n",
        "\n",
        "hidden_state, cell_state = encoder(english_batch)\n",
        "\n",
        "print(f'hidden_state shape: {hidden_state.shape}')\n",
        "print(f'cell_state shape: {cell_state.shape}')"
      ],
      "execution_count": 25,
      "outputs": [
        {
          "output_type": "stream",
          "text": [
            "hidden_state shape: (16, 512)\n",
            "cell_state shape: (16, 512)\n"
          ],
          "name": "stdout"
        }
      ]
    },
    {
      "cell_type": "code",
      "metadata": {
        "id": "jEk9ikVh1ibL",
        "colab": {
          "base_uri": "https://localhost:8080/"
        },
        "outputId": "ba45d65b-fe23-4380-f512-b8fcfe360afe"
      },
      "source": [
        "# model summary for the encoder network.\n",
        "encoder.summary()"
      ],
      "execution_count": 26,
      "outputs": [
        {
          "output_type": "stream",
          "text": [
            "Model: \"Encoder\"\n",
            "_________________________________________________________________\n",
            "Layer (type)                 Output Shape              Param #   \n",
            "=================================================================\n",
            "input (InputLayer)           [(None, None, 128)]       0         \n",
            "_________________________________________________________________\n",
            "end_token_embedding_layer (E (None, None, 128)         128       \n",
            "_________________________________________________________________\n",
            "masking_layer (Masking)      (None, None, 128)         0         \n",
            "_________________________________________________________________\n",
            "lstm (LSTM)                  [(None, 512), (None, 512) 1312768   \n",
            "=================================================================\n",
            "Total params: 1,312,896\n",
            "Trainable params: 1,312,896\n",
            "Non-trainable params: 0\n",
            "_________________________________________________________________\n"
          ],
          "name": "stdout"
        }
      ]
    },
    {
      "cell_type": "markdown",
      "metadata": {
        "id": "KvkzpCeZ1ibR"
      },
      "source": [
        "##Decoder network"
      ]
    },
    {
      "cell_type": "code",
      "metadata": {
        "id": "l50qhnXD1ibT"
      },
      "source": [
        "class Decoder(tf.keras.models.Model):\n",
        "\n",
        "    def __init__(self, german_tokenizer_max_index,**kwargs):\n",
        "        super(Decoder, self).__init__(**kwargs)\n",
        "        self.embedding = tf.keras.layers.Embedding(german_tokenizer_max_index + 1, 128, mask_zero=True, name='embedding')\n",
        "        self.lstm = tf.keras.layers.LSTM(512, return_state=True, return_sequences=True, name='lstm')\n",
        "        self.dense = tf.keras.layers.Dense(german_tokenizer_max_index + 1, name='dense')\n",
        "        \n",
        "    def call(self, inputs, hidden_state, cell_state):\n",
        "        x = self.embedding(inputs)\n",
        "        x = self.lstm(x, initial_state=[hidden_state, cell_state])\n",
        "        return self.dense(x[0]), x[1], x[2]"
      ],
      "execution_count": 27,
      "outputs": []
    },
    {
      "cell_type": "code",
      "metadata": {
        "id": "b1QbVGo80BQ3",
        "colab": {
          "base_uri": "https://localhost:8080/"
        },
        "outputId": "3849f886-f092-4f95-dff5-8af8b6c1cd87"
      },
      "source": [
        "english_batch, german_batch = next(iter(training_batched_dataset.take(1)))\n",
        "\n",
        "encoder = get_encoder((None, 128))\n",
        "hidden_state, cell_state = encoder(english_batch)\n",
        "\n",
        "decoder = Decoder(german_tokenizer_max_index, name='Decoder')\n",
        "output, hidden_state, cell_state = decoder(german_batch, hidden_state, cell_state)\n",
        "\n",
        "print(f'output shape: {output.shape}')\n",
        "print(f'hidden_state shape: {hidden_state.shape}')\n",
        "print(f'cell_state shape: {cell_state.shape}')"
      ],
      "execution_count": 28,
      "outputs": [
        {
          "output_type": "stream",
          "text": [
            "output shape: (16, 14, 5744)\n",
            "hidden_state shape: (16, 512)\n",
            "cell_state shape: (16, 512)\n"
          ],
          "name": "stdout"
        }
      ]
    },
    {
      "cell_type": "code",
      "metadata": {
        "id": "hFYU5-XezuKM",
        "colab": {
          "base_uri": "https://localhost:8080/"
        },
        "outputId": "75eab313-114f-498f-bce2-f23594ed9083"
      },
      "source": [
        "# model summary for the decoder network\n",
        "decoder.summary()"
      ],
      "execution_count": 29,
      "outputs": [
        {
          "output_type": "stream",
          "text": [
            "Model: \"Decoder\"\n",
            "_________________________________________________________________\n",
            "Layer (type)                 Output Shape              Param #   \n",
            "=================================================================\n",
            "embedding (Embedding)        multiple                  735232    \n",
            "_________________________________________________________________\n",
            "lstm (LSTM)                  multiple                  1312768   \n",
            "_________________________________________________________________\n",
            "dense (Dense)                multiple                  2946672   \n",
            "=================================================================\n",
            "Total params: 4,994,672\n",
            "Trainable params: 4,994,672\n",
            "Non-trainable params: 0\n",
            "_________________________________________________________________\n"
          ],
          "name": "stdout"
        }
      ]
    },
    {
      "cell_type": "markdown",
      "metadata": {
        "id": "pST9XGJ81ibo"
      },
      "source": [
        "## Training"
      ]
    },
    {
      "cell_type": "code",
      "metadata": {
        "id": "7hJHbWqs1ibr"
      },
      "source": [
        "# function that takes a Tensor batch of German data (as extracted from the \n",
        "# training Dataset), and returns a tuple containing German inputs and outputs for the decoder model\n",
        "\n",
        "def get_german_data(batch_data):\n",
        "    return batch_data[:,:-1], batch_data[:,1:]"
      ],
      "execution_count": 30,
      "outputs": []
    },
    {
      "cell_type": "code",
      "metadata": {
        "id": "NVDPbZwUSKYN"
      },
      "source": [
        "# computes the forward and backward pass for your translation model.\n",
        "\n",
        "@tf.function\n",
        "def propogate(english_input, german_input, german_output, encoder, decoder, loss_fn):\n",
        "\n",
        "    with tf.GradientTape() as tape:\n",
        "      encoder_hidden_state, encoder_cell_state = encoder(english_input)\n",
        "      decoder_return_sequence, _, _ = decoder(german_input, encoder_hidden_state, encoder_cell_state)      \n",
        "      loss = loss_fn(german_output, decoder_return_sequence)\n",
        "    return loss, tape.gradient(loss, [encoder.trainable_variables, decoder.trainable_variables])"
      ],
      "execution_count": 31,
      "outputs": []
    },
    {
      "cell_type": "code",
      "metadata": {
        "id": "MVWOYJ3l1ib1"
      },
      "source": [
        "# custom training loop\n",
        "\n",
        "def train(encoder, decoder, num_epochs, training_batched_dataset, validation_batched_dataset, patience):\n",
        "\n",
        "    training_epochs_losses = []\n",
        "    validation_epochs_losses = []\n",
        "\n",
        "    loss_fn = tf.keras.losses.SparseCategoricalCrossentropy(from_logits=True)\n",
        "    optimizer = tf.keras.optimizers.Adam()\n",
        "    patience_count = 0\n",
        "    for i in range(num_epochs):\n",
        "        \n",
        "        training_epoch_loss_avg = tf.keras.metrics.Mean()\n",
        "        validation_epoch_loss_avg = tf.keras.metrics.Mean()\n",
        "\n",
        "        for english, german in training_batched_dataset.as_numpy_iterator():\n",
        "\n",
        "            german_input, german_output = get_german_data(german)\n",
        "            loss, [encoder_gradient, decoder_gradient] = propogate(english, german_input, german_output, encoder, decoder, loss_fn)\n",
        "            training_epoch_loss_avg(loss)\n",
        "            optimizer.apply_gradients(zip(encoder_gradient, encoder.trainable_variables))\n",
        "            optimizer.apply_gradients(zip(decoder_gradient, decoder.trainable_variables))\n",
        "\n",
        "        for english, german in validation_batched_dataset:\n",
        "\n",
        "            german_input, german_output = get_german_data(german)\n",
        "            encoder_hidden_state, encoder_cell_state = encoder(english)\n",
        "            decoder_return_sequence, _, _ = decoder(german_input, encoder_hidden_state, encoder_cell_state)\n",
        "            validation_epoch_loss_avg(loss_fn(german_output, decoder_return_sequence))\n",
        "\n",
        "\n",
        "        validation_epoch_loss = validation_epoch_loss_avg.result().numpy()\n",
        "\n",
        "        if not validation_epochs_losses or validation_epoch_loss < min(validation_epochs_losses):\n",
        "            print('saving best weights')\n",
        "            encoder.save_weights('./encoder/checkpoint')\n",
        "            decoder.save_weights('./decoder/checkpoint')\n",
        "\n",
        "        if validation_epochs_losses and validation_epoch_loss > min(validation_epochs_losses):\n",
        "            patience_count += 1\n",
        "        else:\n",
        "            patience_count = 0\n",
        "\n",
        "        if patience_count > patience:\n",
        "            break\n",
        "\n",
        "        validation_epochs_losses.append(validation_epoch_loss)\n",
        "\n",
        "        training_epoch_loss = training_epoch_loss_avg.result().numpy()\n",
        "        training_epochs_losses.append(training_epoch_loss)\n",
        "        \n",
        "\n",
        "        print(f'epoch: {i+1}/{num_epochs}, loss: {str(round(training_epoch_loss, 2))}, val_loss: {str(round(validation_epoch_loss, 2))}')\n",
        "        if patience_count > patience:\n",
        "            break\n",
        "    \n",
        "    return training_epochs_losses, validation_epochs_losses"
      ],
      "execution_count": 32,
      "outputs": []
    },
    {
      "cell_type": "code",
      "metadata": {
        "id": "OKVbRqxWZld-",
        "colab": {
          "base_uri": "https://localhost:8080/"
        },
        "outputId": "a3e12f21-1f6e-4d60-8768-acf5b154b934"
      },
      "source": [
        "encoder = get_encoder(input_shape=(None, 128))\n",
        "decoder = Decoder(german_tokenizer_max_index)\n",
        "num_epochs = 15\n",
        "patience = 1\n",
        "\n",
        "training_batched_dataset = get_batched_dataset(training_dataset, training=True)\n",
        "validation_batched_dataset = get_batched_dataset(validation_dataset)\n",
        "\n",
        "training_epochs_losses, validation_epoch_losses = train(encoder, decoder, num_epochs, training_batched_dataset, validation_batched_dataset, patience)"
      ],
      "execution_count": 33,
      "outputs": [
        {
          "output_type": "stream",
          "text": [
            "saving best weights\n",
            "epoch: 1/15, loss: 5.32, val_loss: 4.59\n",
            "saving best weights\n",
            "epoch: 2/15, loss: 4.02, val_loss: 3.68\n",
            "saving best weights\n",
            "epoch: 3/15, loss: 3.09, val_loss: 2.93\n",
            "saving best weights\n",
            "epoch: 4/15, loss: 2.28, val_loss: 2.27\n",
            "saving best weights\n",
            "epoch: 5/15, loss: 1.57, val_loss: 1.73\n",
            "saving best weights\n",
            "epoch: 6/15, loss: 1.02, val_loss: 1.37\n",
            "saving best weights\n",
            "epoch: 7/15, loss: 0.66, val_loss: 1.17\n",
            "saving best weights\n",
            "epoch: 8/15, loss: 0.45, val_loss: 1.07\n",
            "saving best weights\n",
            "epoch: 9/15, loss: 0.33, val_loss: 1.02\n",
            "saving best weights\n",
            "epoch: 10/15, loss: 0.25, val_loss: 1.01\n",
            "saving best weights\n",
            "epoch: 11/15, loss: 0.2, val_loss: 1.0\n",
            "epoch: 12/15, loss: 0.16, val_loss: 1.01\n"
          ],
          "name": "stdout"
        }
      ]
    },
    {
      "cell_type": "code",
      "metadata": {
        "id": "xgyayfBziKPq"
      },
      "source": [
        "%matplotlib inline\n",
        "import matplotlib.pyplot as plt"
      ],
      "execution_count": 34,
      "outputs": []
    },
    {
      "cell_type": "code",
      "metadata": {
        "id": "dpacst2F1ib7",
        "colab": {
          "base_uri": "https://localhost:8080/",
          "height": 390
        },
        "outputId": "de2d49dc-734e-4117-c25e-df2e9d719e7a"
      },
      "source": [
        "# loss vs epoch for both training and validation sets.\n",
        "plt.figure(figsize=(6,6))\n",
        "plt.plot(training_epochs_losses)\n",
        "plt.plot(validation_epoch_losses)\n",
        "plt.legend(['loss', 'val_loss'])\n",
        "plt.title('Loss v/s epochs');"
      ],
      "execution_count": 35,
      "outputs": [
        {
          "output_type": "display_data",
          "data": {
            "image/png": "[encoded data removed]",
            "text/plain": [
              "<Figure size 432x432 with 1 Axes>"
            ]
          },
          "metadata": {
            "tags": [],
            "needs_background": "light"
          }
        }
      ]
    },
    {
      "cell_type": "markdown",
      "metadata": {
        "id": "1gYTa3xwhOvX"
      },
      "source": [
        "##Load best weights"
      ]
    },
    {
      "cell_type": "code",
      "metadata": {
        "colab": {
          "base_uri": "https://localhost:8080/"
        },
        "id": "msihYhzlgqUG",
        "outputId": "0a69c1c2-fc76-4210-b1c7-905bccd7bbc3"
      },
      "source": [
        "decoder = Decoder(german_tokenizer_max_index, name='Decoder')\n",
        "decoder.load_weights('./decoder/checkpoint')\n",
        "\n",
        "encoder = get_encoder((None, 128))\n",
        "encoder.load_weights('./encoder/checkpoint')"
      ],
      "execution_count": 36,
      "outputs": [
        {
          "output_type": "execute_result",
          "data": {
            "text/plain": [
              "<tensorflow.python.training.tracking.util.CheckpointLoadStatus at 0x7fd40d4cdfd0>"
            ]
          },
          "metadata": {
            "tags": []
          },
          "execution_count": 36
        }
      ]
    },
    {
      "cell_type": "markdown",
      "metadata": {
        "id": "P2TQ8T8zikdU"
      },
      "source": [
        "##Evaluate Model"
      ]
    },
    {
      "cell_type": "code",
      "metadata": {
        "id": "XVOa8JLB0GWK"
      },
      "source": [
        "english_sentences, german_sentences = get_sentence(data_examples)\n",
        "\n",
        "split = train_test_split(english_sentences, german_sentences, test_size=0.2, random_state=5)\n",
        "_ , english_sentences_test = split[:2]\n",
        "_ , german_sentences_test = split[2:]"
      ],
      "execution_count": 37,
      "outputs": []
    },
    {
      "cell_type": "code",
      "metadata": {
        "id": "PyEPp0AErix0"
      },
      "source": [
        "# Preprocess and embed the English sentence according to the model requirements.\n",
        "test_dataset = tf.data.Dataset.from_tensor_slices((english_sentences_test, german_sentences_test))\n",
        "test_dataset = split_english_sentences(test_dataset)\n",
        "test_dataset = embed_english_words(test_dataset, embedding_layer)\n",
        "test_dataset = filter_english_seq(test_dataset)\n",
        "# test_dataset = pad_english_seq(test_dataset)\n",
        "test_dataset = get_batched_dataset(test_dataset, batch_size=1)"
      ],
      "execution_count": 38,
      "outputs": []
    },
    {
      "cell_type": "code",
      "metadata": {
        "id": "Tu3AiJk3k-4p"
      },
      "source": [
        "# Pass the embedded sentence through the encoder to get the encoder hidden and cell states.\n",
        "# Decode the output token sequence into German text and print the English text and the model's German translation.\n",
        "start_token = german_tokenizer.word_index['<start>']\n",
        "end_token = german_tokenizer.word_index['<end>']\n",
        "\n",
        "total_bleu_score = 0\n",
        "\n",
        "for i, (english_data, _) in enumerate(test_dataset):\n",
        "    hidden_state, cell_state = encoder(english_data, training=False)\n",
        "    decoder_output = []\n",
        "    token = start_token\n",
        "    for j in range(14):\n",
        "      token = tf.constant([[token]], dtype=tf.float32)\n",
        "      logit, hidden_state, cell_state = decoder(token, hidden_state, cell_state, training=False)\n",
        "      token = tf.argmax(logit[0][0]).numpy()\n",
        "      if token == end_token:\n",
        "        break\n",
        "      decoder_output.append(token)\n",
        "\n",
        "    reference = german_sentences_test[i]\n",
        "    reference = \" \".join(re.split('\\W+', reference))\n",
        "    reference = reference.strip()\n",
        "    reference = reference.split()\n",
        "\n",
        "    hypothesis = \" \".join([german_tokenizer.index_word[token] for token in decoder_output])\n",
        "    hypothesis = \" \".join(re.split('\\W+', hypothesis))\n",
        "    hypothesis = hypothesis.strip()\n",
        "    hypothesis = hypothesis.split()\n",
        "    \n",
        "    smoothie = SmoothingFunction().method1\n",
        "    bleu_score = sentence_bleu([reference], hypothesis, smoothing_function=smoothie)\n",
        "    total_bleu_score += bleu_score\n"
      ],
      "execution_count": 39,
      "outputs": []
    },
    {
      "cell_type": "code",
      "metadata": {
        "colab": {
          "base_uri": "https://localhost:8080/"
        },
        "id": "Y8XQLdERwWu6",
        "outputId": "f01c7b7f-1d67-486a-81bc-42a55ca48147"
      },
      "source": [
        "print(f'bleu score : {total_bleu_score / len(english_sentences_test)}')"
      ],
      "execution_count": 40,
      "outputs": [
        {
          "output_type": "stream",
          "text": [
            "bleu score : 0.19515308627141179\n"
          ],
          "name": "stdout"
        }
      ]
    },
    {
      "cell_type": "markdown",
      "metadata": {
        "id": "xM2gvBM11ib-"
      },
      "source": [
        "##Translate"
      ]
    },
    {
      "cell_type": "code",
      "metadata": {
        "id": "bGnQtE7L1icA"
      },
      "source": [
        "# five randomly sampled English sentences\n",
        "idx = tf.random.uniform((5,), minval=0, maxval=len(english_sentences_test), dtype=tf.int32).numpy()\n",
        "\n",
        "five_english_sentences , five_german_sentences = [], []\n",
        "\n",
        "for id in idx:\n",
        "    five_english_sentences.append(english_sentences_test[id])\n",
        "    five_german_sentences.append(german_sentences_test[id])"
      ],
      "execution_count": 41,
      "outputs": []
    },
    {
      "cell_type": "code",
      "metadata": {
        "id": "ohleJRcJ1icD"
      },
      "source": [
        "# Preprocess and embed the English sentence according to the model requirements.\n",
        "test_dataset = tf.data.Dataset.from_tensor_slices((five_english_sentences, five_german_sentences))\n",
        "test_dataset = split_english_sentences(test_dataset)\n",
        "test_dataset = embed_english_words(test_dataset, embedding_layer)\n",
        "test_dataset = filter_english_seq(test_dataset)\n",
        "# test_dataset = pad_english_seq(test_dataset)\n",
        "test_dataset = get_batched_dataset(test_dataset, batch_size=1)"
      ],
      "execution_count": 42,
      "outputs": []
    },
    {
      "cell_type": "code",
      "metadata": {
        "id": "Unk60cEy1icI"
      },
      "source": [
        "# Pass the embedded sentence through the encoder to get the encoder hidden and cell states.\n",
        "states = []\n",
        "for english_data, _ in test_dataset:\n",
        "    states.append(encoder(english_data))"
      ],
      "execution_count": 43,
      "outputs": []
    },
    {
      "cell_type": "code",
      "metadata": {
        "id": "lo-yyzs6xCWJ",
        "colab": {
          "base_uri": "https://localhost:8080/"
        },
        "outputId": "db82fefd-9c47-4d53-f5e1-294172430caf"
      },
      "source": [
        "# Decode the output token sequence into German text and print the English text and the model's German translation.\n",
        "start_token = german_tokenizer.word_index['<start>']\n",
        "end_token = german_tokenizer.word_index['<end>']\n",
        "\n",
        "for i in range(5):\n",
        "    if i != 0:\n",
        "        print('\\n==================================================================================\\n')\n",
        "    decoder_output = []\n",
        "    hidden_state, cell_state = states[i][0], states[i][1]\n",
        "    token = start_token\n",
        "    for j in range(14):\n",
        "      token = tf.constant([[token]], dtype=tf.float32)\n",
        "      logit, hidden_state, cell_state = decoder(token, hidden_state, cell_state, training=False)\n",
        "      token = tf.argmax(logit[0][0]).numpy()\n",
        "      if token == end_token:\n",
        "        break\n",
        "      decoder_output.append(token)\n",
        "\n",
        "    print(f'english sentence             : {five_english_sentences[i]}')\n",
        "    print(f'labeled german translation   : {five_german_sentences[i]}')\n",
        "    print(f'predicted german translation : {\" \".join([german_tokenizer.index_word[token] for token in decoder_output])}')"
      ],
      "execution_count": 44,
      "outputs": [
        {
          "output_type": "stream",
          "text": [
            "english sentence             : i'm a journalist .\n",
            "labeled german translation   : ich bin journalist .\n",
            "predicted german translation : ich bin lehrer .\n",
            "\n",
            "==================================================================================\n",
            "\n",
            "english sentence             : tom was confused .\n",
            "labeled german translation   : tom war verwirrt .\n",
            "predicted german translation : tom war verbluefft .\n",
            "\n",
            "==================================================================================\n",
            "\n",
            "english sentence             : we knew this .\n",
            "labeled german translation   : das wussten wir .\n",
            "predicted german translation : wir kannten das .\n",
            "\n",
            "==================================================================================\n",
            "\n",
            "english sentence             : do you do yoga ?\n",
            "labeled german translation   : macht ihr yoga ?\n",
            "predicted german translation : betreiben sie yoga ?\n",
            "\n",
            "==================================================================================\n",
            "\n",
            "english sentence             : i stood up slowly .\n",
            "labeled german translation   : ich stand langsam auf .\n",
            "predicted german translation : ich bin ueber nacht .\n"
          ],
          "name": "stdout"
        }
      ]
    }
  ]
}